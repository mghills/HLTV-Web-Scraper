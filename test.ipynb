{
 "cells": [
  {
   "cell_type": "markdown",
   "metadata": {},
   "source": []
  },
  {
   "cell_type": "code",
   "execution_count": 2,
   "metadata": {},
   "outputs": [],
   "source": [
    "import requests\n",
    "\n",
    "url = 'https://www.hltv.org/results?team=4494'\n",
    "headers = {\n",
    "    'User-Agent': 'Mozilla/5.0 (X11; Linux x86_64; rv:102.0) Gecko/20100101 Firefox/102.0',\n",
    "    'Accept': 'application/json, text/javascript, */*; q=0.01',\n",
    "    'Accept-Language': 'en-US,en;q=0.5',\n",
    "    'Content-Type': 'application/json',\n",
    "    'X-Requested-With': 'XMLHttpRequest',\n",
    "    'DNT': '1',\n",
    "    'Connection': 'keep-alive',\n",
    "    'Referer': 'https://etfdb.com/etfs/asset-class/equity/',\n",
    "    'Sec-Fetch-Dest': 'empty',\n",
    "    'Sec-Fetch-Mode': 'cors',\n",
    "    'Sec-Fetch-Site': 'same-origin',\n",
    "}\n",
    "\n",
    "r = requests.get(url, headers=headers)"
   ]
  },
  {
   "cell_type": "code",
   "execution_count": 3,
   "metadata": {},
   "outputs": [],
   "source": [
    "from bs4 import BeautifulSoup\n",
    "\n",
    "soup = BeautifulSoup(r.content, 'html.parser')"
   ]
  },
  {
   "cell_type": "code",
   "execution_count": 4,
   "metadata": {},
   "outputs": [
    {
     "name": "stdout",
     "output_type": "stream",
     "text": [
      "['https://www.hltv.org/matches/2366133/mouz-vs-furia-esl-pro-league-season-18', 'https://www.hltv.org/matches/2358417/natus-vincere-vs-mouz-iem-road-to-rio-2022-europe-rmr-b', 'https://www.hltv.org/matches/2362237/mouz-vs-pain-esl-pro-league-season-17', 'https://www.hltv.org/matches/2359104/mouz-vs-sinners-twr-eastern-european-masters-fall-2022-blast-premier-qualifier', 'https://www.hltv.org/matches/2357737/mouz-vs-heet-esl-pro-league-season-16', 'https://www.hltv.org/matches/2357126/natus-vincere-vs-mouz-iem-cologne-2022', 'https://www.hltv.org/matches/2363156/virtuspro-vs-mouz-blasttv-paris-major-2023-europe-rmr-a', 'https://www.hltv.org/matches/2365542/natus-vincere-vs-mouz-iem-cologne-2023', 'https://www.hltv.org/matches/2363842/mouz-vs-og-blasttv-paris-major-2023-challengers-stage', 'https://www.hltv.org/matches/2357723/mouz-vs-heroic-esl-pro-league-season-16', 'https://www.hltv.org/matches/2367842/mouz-vs-faze-cs-asia-championships-2023', 'https://www.hltv.org/matches/2366655/mouz-vs-victory-zigzag-pelaajat-nordic-masters-fall-2023-blast-premier-qualifier', 'https://www.hltv.org/matches/2359824/mouz-vs-vitality-iem-rio-major-2022', 'https://www.hltv.org/matches/2357144/mouz-vs-ninjas-in-pyjamas-iem-cologne-2022', 'https://www.hltv.org/matches/2359554/mouz-vs-outsiders-esl-challenger-rotterdam-2022', 'https://www.hltv.org/matches/2364849/mouz-vs-500-elisa-invitational-spring-2023', 'https://www.hltv.org/matches/2357133/heroic-vs-mouz-iem-cologne-2022', 'https://www.hltv.org/matches/2364484/mouz-vs-og-iem-dallas-2023', 'https://www.hltv.org/matches/2367606/faze-vs-mouz-thunderpick-world-championship-2023', 'https://www.hltv.org/matches/2365423/ninjas-in-pyjamas-vs-mouz-iem-cologne-2023-play-in', 'https://www.hltv.org/matches/2359844/outsiders-vs-mouz-iem-rio-major-2022', 'https://www.hltv.org/matches/2364488/astralis-vs-mouz-iem-dallas-2023', 'https://www.hltv.org/matches/2367262/mouz-vs-faze-iem-sydney-2023', 'https://www.hltv.org/matches/2358402/mouz-vs-og-iem-road-to-rio-2022-europe-rmr-b', 'https://www.hltv.org/matches/2366089/evil-geniuses-vs-mouz-esl-pro-league-season-18', 'https://www.hltv.org/matches/2359608/mouz-vs-outsiders-iem-rio-major-2022-challengers-stage', 'https://www.hltv.org/matches/2359548/mouz-vs-movistar-riders-esl-challenger-rotterdam-2022', 'https://www.hltv.org/matches/2362241/cloud9-vs-mouz-esl-pro-league-season-17', 'https://www.hltv.org/matches/2367848/mouz-vs-faze-cs-asia-championships-2023', 'https://www.hltv.org/matches/2357726/astralis-vs-mouz-esl-pro-league-season-16', 'https://www.hltv.org/matches/2367585/mouz-vs-m80-thunderpick-world-championship-2023', 'https://www.hltv.org/matches/2366137/faze-vs-mouz-esl-pro-league-season-18', 'https://www.hltv.org/matches/2357731/ence-vs-mouz-esl-pro-league-season-16', 'https://www.hltv.org/matches/2367594/spirit-vs-mouz-thunderpick-world-championship-2023', 'https://www.hltv.org/matches/2358430/k23-vs-mouz-iem-road-to-rio-2022-europe-rmr-b', 'https://www.hltv.org/matches/2366085/mouz-vs-mibr-esl-pro-league-season-18', 'https://www.hltv.org/matches/2359110/mouz-vs-eternal-fire-twr-eastern-european-masters-fall-2022-blast-premier-qualifier', 'https://www.hltv.org/matches/2367123/mouz-vs-vertex-iem-sydney-2023', 'https://www.hltv.org/matches/2367846/astralis-vs-mouz-cs-asia-championships-2023', 'https://www.hltv.org/matches/2363366/mouz-vs-apeks-betboom-playlist-urbanistic-2023', 'https://www.hltv.org/matches/2368210/forze-vs-eneida-esl-challenger-atlanta-2023-europe-open-qualifier', 'https://www.hltv.org/matches/2359545/mouz-vs-nixuh-esl-challenger-rotterdam-2022', 'https://www.hltv.org/matches/2363743/ninjas-in-pyjamas-vs-mouz-blasttv-paris-major-2023-challengers-stage', 'https://www.hltv.org/matches/2366143/ence-vs-mouz-esl-pro-league-season-18', 'https://www.hltv.org/matches/2367600/complexity-vs-mouz-thunderpick-world-championship-2023', 'https://www.hltv.org/matches/2359841/mouz-vs-cloud9-iem-rio-major-2022', 'https://www.hltv.org/matches/2363550/mouz-vs-9ine-iem-rio-2023', 'https://www.hltv.org/matches/2361329/complexity-vs-mouz-iem-katowice-2023', 'https://www.hltv.org/matches/2363451/mouz-vs-forze-betboom-playlist-urbanistic-2023', 'https://www.hltv.org/matches/2362198/mouz-vs-furia-esl-pro-league-season-17', 'https://www.hltv.org/matches/2367981/9ine-vs-spirit-betboom-dacha-2023-closed-qualifier', 'https://www.hltv.org/matches/2368092/looking4org-vs-anonymo-cct-2023-online-finals-4', 'https://www.hltv.org/matches/2362205/mouz-vs-heroic-esl-pro-league-season-17', 'https://www.hltv.org/matches/2358451/mouz-vs-sangal-iem-road-to-rio-2022-europe-rmr-b', 'https://www.hltv.org/matches/2366093/mibr-vs-mouz-esl-pro-league-season-18', 'https://www.hltv.org/matches/2364490/heroic-vs-mouz-iem-dallas-2023', 'https://www.hltv.org/matches/2365549/mouz-vs-vitality-iem-cologne-2023', 'https://www.hltv.org/matches/2359784/evil-geniuses-vs-mouz-iem-rio-major-2022-challengers-stage', 'https://www.hltv.org/matches/2358954/mouz-vs-onyx-twr-eastern-european-masters-fall-2022-blast-premier-qualifier', 'https://www.hltv.org/matches/2357032/mouz-vs-tyloo-iem-cologne-2022-play-in', 'https://www.hltv.org/matches/2365618/mouz-vs-500-thunderpick-world-championship-2023-europe-series-1', 'https://www.hltv.org/matches/2365556/mouz-vs-astralis-iem-cologne-2023', 'https://www.hltv.org/matches/2358441/mouz-vs-vitality-iem-road-to-rio-2022-europe-rmr-b', 'https://www.hltv.org/matches/2357948/ago-vs-mouz-iem-road-to-rio-2022-europe-open-qualifier-1', 'https://www.hltv.org/matches/2365622/big-vs-mouz-thunderpick-world-championship-2023-europe-series-1', 'https://www.hltv.org/matches/2359807/mouz-vs-liquid-iem-rio-major-2022', 'https://www.hltv.org/matches/2367838/mouz-vs-wings-up-cs-asia-championships-2023', 'https://www.hltv.org/matches/2359832/mouz-vs-outsiders-iem-rio-major-2022', 'https://www.hltv.org/matches/2365610/mouz-vs-sampi-thunderpick-world-championship-2023-europe-series-1', 'https://www.hltv.org/matches/2367257/mouz-vs-betboom-iem-sydney-2023', 'https://www.hltv.org/matches/2357953/mouz-vs-portuguese-family-iem-road-to-rio-2022-europe-open-qualifier-1', 'https://www.hltv.org/matches/2359795/mouz-vs-fnatic-iem-rio-major-2022-challengers-stage', 'https://www.hltv.org/matches/2363113/mouz-vs-b8-blasttv-paris-major-2023-europe-rmr-a', 'https://www.hltv.org/matches/2364886/apeks-vs-mouz-elisa-invitational-spring-2023', 'https://www.hltv.org/matches/2366091/heroic-vs-mouz-esl-pro-league-season-18', 'https://www.hltv.org/matches/2361322/og-vs-mouz-iem-katowice-2023', 'https://www.hltv.org/matches/2364474/mouz-vs-heroic-iem-dallas-2023', 'https://www.hltv.org/matches/2363148/falcons-vs-mouz-blasttv-paris-major-2023-europe-rmr-a', 'https://www.hltv.org/matches/2359837/mouz-vs-ence-iem-rio-major-2022', 'https://www.hltv.org/matches/2362041/saw-vs-mouz-esl-pro-league-season-17', 'https://www.hltv.org/matches/2364481/furia-vs-mouz-iem-dallas-2023', 'https://www.hltv.org/matches/2357733/complexity-vs-mouz-esl-pro-league-season-16', 'https://www.hltv.org/matches/2365621/eternal-fire-vs-mouz-thunderpick-world-championship-2023-europe-series-1', 'https://www.hltv.org/matches/2366657/mouz-vs-416olsk-pelaajat-nordic-masters-fall-2023-blast-premier-qualifier', 'https://www.hltv.org/matches/2357936/mouz-vs-ec-kyiv-iem-road-to-rio-2022-europe-open-qualifier-1', 'https://www.hltv.org/matches/2368048/00nation-vs-godsent-yalla-compass-fall-2023', 'https://www.hltv.org/matches/2358330/mouz-vs-liquid-esl-pro-league-season-16', 'https://www.hltv.org/matches/2366144/natus-vincere-vs-mouz-esl-pro-league-season-18', 'https://www.hltv.org/matches/2363162/faze-vs-mouz-blasttv-paris-major-2023-europe-rmr-a', 'https://www.hltv.org/matches/2366141/g2-vs-mouz-esl-pro-league-season-18', 'https://www.hltv.org/matches/2367844/lynn-vision-vs-mouz-cs-asia-championships-2023', 'https://www.hltv.org/matches/2363850/gamerlegion-vs-mouz-blasttv-paris-major-2023-challengers-stage', 'https://www.hltv.org/matches/2364392/fnatic-vs-mouz-iem-dallas-2023', 'https://www.hltv.org/matches/2359816/mouz-vs-big-iem-rio-major-2022', 'https://www.hltv.org/matches/2368211/pera-vs-aurora-esl-challenger-atlanta-2023-europe-open-qualifier', 'https://www.hltv.org/matches/2365415/mouz-vs-themongolz-iem-cologne-2023-play-in', 'https://www.hltv.org/matches/2363141/mouz-vs-saw-blasttv-paris-major-2023-europe-rmr-a', 'https://www.hltv.org/matches/2363541/big-vs-mouz-iem-rio-2023', 'https://www.hltv.org/matches/2357961/mouz-vs-aurora-iem-road-to-rio-2022-europe-open-qualifier-1', 'https://www.hltv.org/matches/2357957/mouz-vs-sprout-iem-road-to-rio-2022-europe-open-qualifier-1', 'https://www.hltv.org/matches/2366653/mouz-vs-dusty-pelaajat-nordic-masters-fall-2023-blast-premier-qualifier', 'https://www.hltv.org/matches/2367244/natus-vincere-vs-mouz-iem-sydney-2023', 'https://www.hltv.org/matches/2364492/mouz-vs-ence-iem-dallas-2023', 'https://www.hltv.org/matches/2357148/mouz-vs-astralis-iem-cologne-2022', 'https://www.hltv.org/matches/2357140/mouz-vs-vitality-iem-cologne-2022']\n"
     ]
    }
   ],
   "source": [
    "urls = list()\n",
    "for a in soup.find_all('a', href=True):\n",
    "    if '/matches/' in a['href']:\n",
    "        urls.append(a['href'])\n",
    "\n",
    "urls = list(set(urls))\n",
    "urls = ['https://www.hltv.org' + x for x in urls]\n",
    "print(urls)"
   ]
  },
  {
   "cell_type": "code",
   "execution_count": 10,
   "metadata": {},
   "outputs": [
    {
     "name": "stdout",
     "output_type": "stream",
     "text": [
      "https://www.hltv.org/matches/2367842/mouz-vs-faze-cs-asia-championships-2023\n",
      "Mirage\n",
      "13\n",
      "MOUZ\n",
      "11\n",
      "FaZe\n"
     ]
    }
   ],
   "source": [
    "from selenium import webdriver\n",
    "from selenium.webdriver import Chrome \n",
    "from selenium.webdriver.common.by import By \n",
    "\n",
    "# Define the Chrome webdriver options\n",
    "options = webdriver.ChromeOptions() \n",
    "options.add_argument(\"--headless\") # Set the Chrome webdriver to run in headless mode for scalability\n",
    "\n",
    "# By default, Selenium waits for all resources to download before taking actions.\n",
    "# However, we don't need it as the page is populated with dynamically generated JavaScript code.\n",
    "options.page_load_strategy = \"none\"\n",
    "\n",
    "# Pass the defined options objects to initialize the web driver \n",
    "driver = Chrome(options=options) \n",
    "# Set an implicit wait of 5 seconds to allow time for elements to appear before throwing an exception\n",
    "driver.implicitly_wait(5)\n",
    "\n",
    "dr = webdriver.Chrome()\n",
    "dr.get(urls[10])\n",
    "print(urls[10])\n",
    "\n",
    "map_holder_elements = dr.find_elements(By.CLASS_NAME, \"mapholder\")\n",
    "\n",
    "print(map_holder_elements[0].find_element(By.CLASS_NAME, \"mapname\").text)\n",
    "scores = map_holder_elements[0].find_elements(By.CLASS_NAME, \"results-team-score\")\n",
    "teams = map_holder_elements[0].find_elements(By.CLASS_NAME, \"results-teamname\")\n",
    "print(scores[0].text)\n",
    "print(teams[0].text)\n",
    "print(scores[1].text)\n",
    "print(teams[1].text)\n",
    "# print(map_holder_elements[0].find_element(By.CLASS_NAME, \"results-team-score\").text)\n",
    "\n",
    "#print(map_holder_elements[0].get_attribute())\n"
   ]
  }
 ],
 "metadata": {
  "kernelspec": {
   "display_name": "Python 3",
   "language": "python",
   "name": "python3"
  },
  "language_info": {
   "codemirror_mode": {
    "name": "ipython",
    "version": 3
   },
   "file_extension": ".py",
   "mimetype": "text/x-python",
   "name": "python",
   "nbconvert_exporter": "python",
   "pygments_lexer": "ipython3",
   "version": "3.11.6"
  }
 },
 "nbformat": 4,
 "nbformat_minor": 2
}
